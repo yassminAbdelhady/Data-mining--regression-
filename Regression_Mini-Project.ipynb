{
  "nbformat": 4,
  "nbformat_minor": 0,
  "metadata": {
    "interpreter": {
      "hash": "e7370f93d1d0cde622a1f8e1c04877d8463912d04d973331ad4851f04de6915a"
    },
    "kernelspec": {
      "display_name": "Python 3.8.11 64-bit ('base': conda)",
      "language": "python",
      "name": "python3"
    },
    "language_info": {
      "codemirror_mode": {
        "name": "ipython",
        "version": 3
      },
      "file_extension": ".py",
      "mimetype": "text/x-python",
      "name": "python",
      "nbconvert_exporter": "python",
      "pygments_lexer": "ipython3",
      "version": "3.9.7"
    },
    "colab": {
      "name": "Regression_Mini-Project.ipynb",
      "provenance": []
    }
  },
  "cells": [
    {
      "cell_type": "markdown",
      "metadata": {
        "id": "WHWl1rLT3u4r"
      },
      "source": [
        "# Linear Regression - Mini-Project 1\n"
      ]
    },
    {
      "cell_type": "markdown",
      "metadata": {
        "id": "Zo1R5-QU3u4v"
      },
      "source": [
        "***Edit this cell with your name(s), tutorial number(s) and ID(s)***\n",
        "\n",
        "---\n",
        "\n",
        "Name:\n",
        "\n",
        "ID:\n",
        "\n",
        "Tutorial:\n",
        "\n",
        "---\n",
        "\n",
        "Name:\n",
        "\n",
        "ID:\n",
        "\n",
        "Tutorial:\n",
        "\n",
        "---\n"
      ]
    },
    {
      "cell_type": "markdown",
      "metadata": {
        "id": "TnCvswqp3u4w"
      },
      "source": [
        "## Dataset Description\n",
        "\n",
        "The dataset contains historical car auction sales prices, scraped from the outside internet sources and collected in 2015.\n",
        "\n",
        "Each row represents a sale at a used car auction. Each column is described below.\n",
        "\n",
        "| Column       | Description                                                                                          |\n",
        "| ------------ | ---------------------------------------------------------------------------------------------------- |\n",
        "| year         | Car's year of production                                                                             |\n",
        "| make         | Car make/brand                                                                                       |\n",
        "| model        | Car model                                                                                            |\n",
        "| trim         | Car's trim or grade, which specifies a car model's level of performance, features, options or extras |\n",
        "| body         | Car body type (e.g. Sedan, SUV, Coupe, etc.)                                                         |\n",
        "| transmission | Car transmission type. The mechanism that moves the power from the engine to the wheels.             |\n",
        "| vin          | Vehicle Identification Number, a unique code to identify individual motor vehicles.                  |\n",
        "| state        | The state in which the car was auctioned.                                                            |\n",
        "| condition    | The condition of the cars being at the time of auction, 5 being the best score and 1 being the worst.|\n",
        "| odometer     | The distance traveled by a vehicle since being manufactured, in miles                                |\n",
        "| color        | Exterior color of the car                                                                            |\n",
        "| interior     | Interior color of the car                                                                            |\n",
        "| seller       | The seller of the car or car dealer                                                                  |\n",
        "| mmr          | Manheim\\* Market Report, the market estimated price of the cars. An indicator of wholesale prices.   |\n",
        "| sellingprice | The price a car was sold at in auction.                                                              |\n",
        "| saledate     | The date on which the car has been sold.                                                             |\n",
        "\n",
        "\\*Manheim is a company established in 1945 as a car auction company. It has grown to a very reputable company and its MMR is a baseline tool for wholesale car price determination. They base their price calculations on over 10 million transaction over the past 13-month period to.\n"
      ]
    },
    {
      "cell_type": "markdown",
      "metadata": {
        "id": "C0Nwafaq3u4y"
      },
      "source": [
        "## Importing Libraries \\& Dataset\n"
      ]
    },
    {
      "cell_type": "code",
      "metadata": {
        "colab": {
          "base_uri": "https://localhost:8080/",
          "height": 206
        },
        "id": "iZ0rrcDt3u4z",
        "outputId": "b64c3aca-b188-4470-9786-527be811e967"
      },
      "source": [
        "import pandas as pd\n",
        "import numpy as np\n",
        "import matplotlib.pyplot as plt\n",
        "import seaborn as sns\n",
        "\n",
        "%matplotlib inline\n",
        "plt.style.use(\"seaborn\")\n",
        "\n",
        "try:\n",
        "    df = pd.read_csv('car_prices.csv')\n",
        "except:\n",
        "    df = pd.read_csv('https://raw.githubusercontent.com/GUC-DM/W2021/main/data/car_prices.csv')\n",
        "\n",
        "df.head()\n"
      ],
      "execution_count": 35,
      "outputs": [
        {
          "output_type": "execute_result",
          "data": {
            "text/html": [
              "<div>\n",
              "<style scoped>\n",
              "    .dataframe tbody tr th:only-of-type {\n",
              "        vertical-align: middle;\n",
              "    }\n",
              "\n",
              "    .dataframe tbody tr th {\n",
              "        vertical-align: top;\n",
              "    }\n",
              "\n",
              "    .dataframe thead th {\n",
              "        text-align: right;\n",
              "    }\n",
              "</style>\n",
              "<table border=\"1\" class=\"dataframe\">\n",
              "  <thead>\n",
              "    <tr style=\"text-align: right;\">\n",
              "      <th></th>\n",
              "      <th>year</th>\n",
              "      <th>make</th>\n",
              "      <th>model</th>\n",
              "      <th>trim</th>\n",
              "      <th>body</th>\n",
              "      <th>transmission</th>\n",
              "      <th>vin</th>\n",
              "      <th>state</th>\n",
              "      <th>condition</th>\n",
              "      <th>odometer</th>\n",
              "      <th>color</th>\n",
              "      <th>interior</th>\n",
              "      <th>seller</th>\n",
              "      <th>mmr</th>\n",
              "      <th>sellingprice</th>\n",
              "      <th>saledate</th>\n",
              "    </tr>\n",
              "  </thead>\n",
              "  <tbody>\n",
              "    <tr>\n",
              "      <th>0</th>\n",
              "      <td>2013</td>\n",
              "      <td>Hyundai</td>\n",
              "      <td>Sonata</td>\n",
              "      <td>GLS</td>\n",
              "      <td>sedan</td>\n",
              "      <td>automatic</td>\n",
              "      <td>5npeb4acxdh702805</td>\n",
              "      <td>ma</td>\n",
              "      <td>3.9</td>\n",
              "      <td>50404.0mi</td>\n",
              "      <td>black</td>\n",
              "      <td>gray</td>\n",
              "      <td>the hertz corporation</td>\n",
              "      <td>$11000</td>\n",
              "      <td>$10900</td>\n",
              "      <td>Tue Jun 02 2015 02:30:00 GMT-0700 (PDT)</td>\n",
              "    </tr>\n",
              "    <tr>\n",
              "      <th>1</th>\n",
              "      <td>2014</td>\n",
              "      <td>Toyota</td>\n",
              "      <td>4Runner</td>\n",
              "      <td>SR5</td>\n",
              "      <td>SUV</td>\n",
              "      <td>automatic</td>\n",
              "      <td>jtezu5jr2e5064567</td>\n",
              "      <td>fl</td>\n",
              "      <td>4.9</td>\n",
              "      <td>17846.0mi</td>\n",
              "      <td>gray</td>\n",
              "      <td>—</td>\n",
              "      <td>award auto sales and leasing inc</td>\n",
              "      <td>$28700</td>\n",
              "      <td>$29900</td>\n",
              "      <td>Wed Feb 18 2015 07:15:00 GMT-0800 (PST)</td>\n",
              "    </tr>\n",
              "    <tr>\n",
              "      <th>2</th>\n",
              "      <td>2012</td>\n",
              "      <td>Lexus</td>\n",
              "      <td>IS 250</td>\n",
              "      <td>Base</td>\n",
              "      <td>Sedan</td>\n",
              "      <td>automatic</td>\n",
              "      <td>jthbf5c24c5168599</td>\n",
              "      <td>fl</td>\n",
              "      <td>4.1</td>\n",
              "      <td>21122.0mi</td>\n",
              "      <td>silver</td>\n",
              "      <td>black</td>\n",
              "      <td>lexus financial services</td>\n",
              "      <td>$22200</td>\n",
              "      <td>$24200</td>\n",
              "      <td>Tue Jan 20 2015 01:30:00 GMT-0800 (PST)</td>\n",
              "    </tr>\n",
              "    <tr>\n",
              "      <th>3</th>\n",
              "      <td>2002</td>\n",
              "      <td>BMW</td>\n",
              "      <td>X5</td>\n",
              "      <td>4.4i</td>\n",
              "      <td>SUV</td>\n",
              "      <td>automatic</td>\n",
              "      <td>5uxfb33562lh33864</td>\n",
              "      <td>fl</td>\n",
              "      <td>1.9</td>\n",
              "      <td>145303.0mi</td>\n",
              "      <td>black</td>\n",
              "      <td>black</td>\n",
              "      <td>peddle llc</td>\n",
              "      <td>$3675</td>\n",
              "      <td>$3200</td>\n",
              "      <td>Wed Mar 04 2015 07:10:00 GMT-0800 (PST)</td>\n",
              "    </tr>\n",
              "    <tr>\n",
              "      <th>4</th>\n",
              "      <td>2014</td>\n",
              "      <td>Ford</td>\n",
              "      <td>E-Series Van</td>\n",
              "      <td>E-250</td>\n",
              "      <td>E-Series Van</td>\n",
              "      <td>automatic</td>\n",
              "      <td>1ftne2ew0eda31832</td>\n",
              "      <td>wa</td>\n",
              "      <td>4.9</td>\n",
              "      <td>6714.0mi</td>\n",
              "      <td>white</td>\n",
              "      <td>gray</td>\n",
              "      <td>u-haul</td>\n",
              "      <td>$22500</td>\n",
              "      <td>$22100</td>\n",
              "      <td>Wed Feb 18 2015 06:45:00 GMT-0800 (PST)</td>\n",
              "    </tr>\n",
              "  </tbody>\n",
              "</table>\n",
              "</div>"
            ],
            "text/plain": [
              "   year     make  ... sellingprice                                 saledate\n",
              "0  2013  Hyundai  ...       $10900  Tue Jun 02 2015 02:30:00 GMT-0700 (PDT)\n",
              "1  2014   Toyota  ...       $29900  Wed Feb 18 2015 07:15:00 GMT-0800 (PST)\n",
              "2  2012    Lexus  ...       $24200  Tue Jan 20 2015 01:30:00 GMT-0800 (PST)\n",
              "3  2002      BMW  ...        $3200  Wed Mar 04 2015 07:10:00 GMT-0800 (PST)\n",
              "4  2014     Ford  ...       $22100  Wed Feb 18 2015 06:45:00 GMT-0800 (PST)\n",
              "\n",
              "[5 rows x 16 columns]"
            ]
          },
          "metadata": {},
          "execution_count": 35
        }
      ]
    },
    {
      "cell_type": "markdown",
      "metadata": {
        "id": "-kxRa5A23u41"
      },
      "source": [
        "## Data Inspection\n",
        "\n",
        "Perform data inspection tasks here (recommended for data understanding)."
      ]
    },
    {
      "cell_type": "code",
      "metadata": {
        "colab": {
          "base_uri": "https://localhost:8080/",
          "height": 1000
        },
        "id": "DjOxE9GK6Ta5",
        "outputId": "302a6b99-3b18-48c8-d3aa-54ec477d8a28"
      },
      "source": [
        "df.tail(20)"
      ],
      "execution_count": 36,
      "outputs": [
        {
          "output_type": "execute_result",
          "data": {
            "text/html": [
              "<div>\n",
              "<style scoped>\n",
              "    .dataframe tbody tr th:only-of-type {\n",
              "        vertical-align: middle;\n",
              "    }\n",
              "\n",
              "    .dataframe tbody tr th {\n",
              "        vertical-align: top;\n",
              "    }\n",
              "\n",
              "    .dataframe thead th {\n",
              "        text-align: right;\n",
              "    }\n",
              "</style>\n",
              "<table border=\"1\" class=\"dataframe\">\n",
              "  <thead>\n",
              "    <tr style=\"text-align: right;\">\n",
              "      <th></th>\n",
              "      <th>year</th>\n",
              "      <th>make</th>\n",
              "      <th>model</th>\n",
              "      <th>trim</th>\n",
              "      <th>body</th>\n",
              "      <th>transmission</th>\n",
              "      <th>vin</th>\n",
              "      <th>state</th>\n",
              "      <th>condition</th>\n",
              "      <th>odometer</th>\n",
              "      <th>color</th>\n",
              "      <th>interior</th>\n",
              "      <th>seller</th>\n",
              "      <th>mmr</th>\n",
              "      <th>sellingprice</th>\n",
              "      <th>saledate</th>\n",
              "    </tr>\n",
              "  </thead>\n",
              "  <tbody>\n",
              "    <tr>\n",
              "      <th>46558</th>\n",
              "      <td>2014</td>\n",
              "      <td>Hyundai</td>\n",
              "      <td>Equus</td>\n",
              "      <td>Signature</td>\n",
              "      <td>Sedan</td>\n",
              "      <td>automatic</td>\n",
              "      <td>kmhgh4jh1eu082187</td>\n",
              "      <td>fl</td>\n",
              "      <td>3.9</td>\n",
              "      <td>7264.0mi</td>\n",
              "      <td>black</td>\n",
              "      <td>beige</td>\n",
              "      <td>trucks unlimited inc</td>\n",
              "      <td>$42400</td>\n",
              "      <td>$41000</td>\n",
              "      <td>Wed Feb 18 2015 01:30:00 GMT-0800 (PST)</td>\n",
              "    </tr>\n",
              "    <tr>\n",
              "      <th>46559</th>\n",
              "      <td>2011</td>\n",
              "      <td>Mazda</td>\n",
              "      <td>CX-7</td>\n",
              "      <td>i SV</td>\n",
              "      <td>suv</td>\n",
              "      <td>automatic</td>\n",
              "      <td>jm3er2a50b0398208</td>\n",
              "      <td>ca</td>\n",
              "      <td>3.0</td>\n",
              "      <td>54715.0mi</td>\n",
              "      <td>black</td>\n",
              "      <td>black</td>\n",
              "      <td>gm financial</td>\n",
              "      <td>$10750</td>\n",
              "      <td>$10200</td>\n",
              "      <td>Wed Jun 17 2015 05:30:00 GMT-0700 (PDT)</td>\n",
              "    </tr>\n",
              "    <tr>\n",
              "      <th>46560</th>\n",
              "      <td>2014</td>\n",
              "      <td>Jeep</td>\n",
              "      <td>Compass</td>\n",
              "      <td>Sport</td>\n",
              "      <td>SUV</td>\n",
              "      <td>automatic</td>\n",
              "      <td>1c4njcba9ed812035</td>\n",
              "      <td>pa</td>\n",
              "      <td>4.0</td>\n",
              "      <td>19000.0mi</td>\n",
              "      <td>white</td>\n",
              "      <td>black</td>\n",
              "      <td>hertz corporation/gdp</td>\n",
              "      <td>$14050</td>\n",
              "      <td>$13400</td>\n",
              "      <td>Thu Jan 22 2015 01:30:00 GMT-0800 (PST)</td>\n",
              "    </tr>\n",
              "    <tr>\n",
              "      <th>46561</th>\n",
              "      <td>2003</td>\n",
              "      <td>Acura</td>\n",
              "      <td>MDX</td>\n",
              "      <td>Base</td>\n",
              "      <td>SUV</td>\n",
              "      <td>automatic</td>\n",
              "      <td>2hnyd18223h501338</td>\n",
              "      <td>ga</td>\n",
              "      <td>1.9</td>\n",
              "      <td>139547.0mi</td>\n",
              "      <td>gold</td>\n",
              "      <td>brown</td>\n",
              "      <td>gwinnett place honda</td>\n",
              "      <td>$4450</td>\n",
              "      <td>$2900</td>\n",
              "      <td>Tue Feb 10 2015 05:00:00 GMT-0800 (PST)</td>\n",
              "    </tr>\n",
              "    <tr>\n",
              "      <th>46562</th>\n",
              "      <td>2012</td>\n",
              "      <td>Nissan</td>\n",
              "      <td>Sentra</td>\n",
              "      <td>2.0 S</td>\n",
              "      <td>Sedan</td>\n",
              "      <td>automatic</td>\n",
              "      <td>3n1ab6ap3cl621692</td>\n",
              "      <td>md</td>\n",
              "      <td>3.0</td>\n",
              "      <td>50009.0mi</td>\n",
              "      <td>gray</td>\n",
              "      <td>gray</td>\n",
              "      <td>capital one auto finance</td>\n",
              "      <td>$8875</td>\n",
              "      <td>$6800</td>\n",
              "      <td>Tue Jan 13 2015 09:30:00 GMT-0800 (PST)</td>\n",
              "    </tr>\n",
              "    <tr>\n",
              "      <th>46563</th>\n",
              "      <td>2013</td>\n",
              "      <td>Ford</td>\n",
              "      <td>Fusion</td>\n",
              "      <td>SE</td>\n",
              "      <td>Sedan</td>\n",
              "      <td>automatic</td>\n",
              "      <td>3fa6p0h70dr185766</td>\n",
              "      <td>va</td>\n",
              "      <td>3.5</td>\n",
              "      <td>98118.0mi</td>\n",
              "      <td>—</td>\n",
              "      <td>black</td>\n",
              "      <td>wheels exchange llc</td>\n",
              "      <td>$10800</td>\n",
              "      <td>$10500</td>\n",
              "      <td>Wed Feb 25 2015 01:30:00 GMT-0800 (PST)</td>\n",
              "    </tr>\n",
              "    <tr>\n",
              "      <th>46564</th>\n",
              "      <td>2012</td>\n",
              "      <td>Toyota</td>\n",
              "      <td>Prius v</td>\n",
              "      <td>Three</td>\n",
              "      <td>Wagon</td>\n",
              "      <td>automatic</td>\n",
              "      <td>jtdzn3eu4c3147186</td>\n",
              "      <td>wa</td>\n",
              "      <td>2.9</td>\n",
              "      <td>49180.0mi</td>\n",
              "      <td>black</td>\n",
              "      <td>black</td>\n",
              "      <td>toyota financial services</td>\n",
              "      <td>$18100</td>\n",
              "      <td>$15400</td>\n",
              "      <td>Tue Dec 23 2014 15:05:00 GMT-0800 (PST)</td>\n",
              "    </tr>\n",
              "    <tr>\n",
              "      <th>46565</th>\n",
              "      <td>2013</td>\n",
              "      <td>Nissan</td>\n",
              "      <td>Sentra</td>\n",
              "      <td>SR</td>\n",
              "      <td>Sedan</td>\n",
              "      <td>automatic</td>\n",
              "      <td>3n1ab7ap7dl626112</td>\n",
              "      <td>nc</td>\n",
              "      <td>4.6</td>\n",
              "      <td>37643.0mi</td>\n",
              "      <td>black</td>\n",
              "      <td>black</td>\n",
              "      <td>capital nissan of wilmington</td>\n",
              "      <td>$11300</td>\n",
              "      <td>$11900</td>\n",
              "      <td>Fri Jan 09 2015 09:30:00 GMT-0800 (PST)</td>\n",
              "    </tr>\n",
              "    <tr>\n",
              "      <th>46566</th>\n",
              "      <td>2012</td>\n",
              "      <td>Chrysler</td>\n",
              "      <td>200</td>\n",
              "      <td>LX</td>\n",
              "      <td>sedan</td>\n",
              "      <td>automatic</td>\n",
              "      <td>1c3ccbab6cn169063</td>\n",
              "      <td>in</td>\n",
              "      <td>4.0</td>\n",
              "      <td>69117.0mi</td>\n",
              "      <td>blue</td>\n",
              "      <td>tan</td>\n",
              "      <td>santander consumer</td>\n",
              "      <td>$8000</td>\n",
              "      <td>$8000</td>\n",
              "      <td>Thu Jun 18 2015 03:10:00 GMT-0700 (PDT)</td>\n",
              "    </tr>\n",
              "    <tr>\n",
              "      <th>46567</th>\n",
              "      <td>2012</td>\n",
              "      <td>Hyundai</td>\n",
              "      <td>Veloster</td>\n",
              "      <td>Base</td>\n",
              "      <td>Hatchback</td>\n",
              "      <td>automatic</td>\n",
              "      <td>kmhtc6ad1cu079812</td>\n",
              "      <td>fl</td>\n",
              "      <td>4.2</td>\n",
              "      <td>34203.0mi</td>\n",
              "      <td>gray</td>\n",
              "      <td>black</td>\n",
              "      <td>hyundai motor finance</td>\n",
              "      <td>$12100</td>\n",
              "      <td>$13400</td>\n",
              "      <td>Tue Feb 17 2015 01:30:00 GMT-0800 (PST)</td>\n",
              "    </tr>\n",
              "    <tr>\n",
              "      <th>46568</th>\n",
              "      <td>2006</td>\n",
              "      <td>Chevrolet</td>\n",
              "      <td>Impala</td>\n",
              "      <td>LT</td>\n",
              "      <td>Sedan</td>\n",
              "      <td>automatic</td>\n",
              "      <td>2g1wc581x69362856</td>\n",
              "      <td>ca</td>\n",
              "      <td>2.0</td>\n",
              "      <td>152410.0mi</td>\n",
              "      <td>blue</td>\n",
              "      <td>gray</td>\n",
              "      <td>veros credit</td>\n",
              "      <td>$2825</td>\n",
              "      <td>$2150</td>\n",
              "      <td>Thu Jan 15 2015 04:00:00 GMT-0800 (PST)</td>\n",
              "    </tr>\n",
              "    <tr>\n",
              "      <th>46569</th>\n",
              "      <td>2005</td>\n",
              "      <td>Cadillac</td>\n",
              "      <td>Escalade</td>\n",
              "      <td>Base</td>\n",
              "      <td>SUV</td>\n",
              "      <td>automatic</td>\n",
              "      <td>1gyek63nx5r135901</td>\n",
              "      <td>va</td>\n",
              "      <td>3.8</td>\n",
              "      <td>127574.0mi</td>\n",
              "      <td>off-white</td>\n",
              "      <td>tan</td>\n",
              "      <td>shirlie slack mitsubishi</td>\n",
              "      <td>$8550</td>\n",
              "      <td>$12800</td>\n",
              "      <td>Thu Feb 12 2015 01:35:00 GMT-0800 (PST)</td>\n",
              "    </tr>\n",
              "    <tr>\n",
              "      <th>46570</th>\n",
              "      <td>2014</td>\n",
              "      <td>Audi</td>\n",
              "      <td>A5</td>\n",
              "      <td>2.0T Premium Plus quattro</td>\n",
              "      <td>Coupe</td>\n",
              "      <td>automatic</td>\n",
              "      <td>waulfafr9ea023041</td>\n",
              "      <td>ca</td>\n",
              "      <td>3.7</td>\n",
              "      <td>13107.0mi</td>\n",
              "      <td>black</td>\n",
              "      <td>brown</td>\n",
              "      <td>century dealer services corp</td>\n",
              "      <td>$34900</td>\n",
              "      <td>$35000</td>\n",
              "      <td>Wed Feb 25 2015 04:00:00 GMT-0800 (PST)</td>\n",
              "    </tr>\n",
              "    <tr>\n",
              "      <th>46571</th>\n",
              "      <td>2008</td>\n",
              "      <td>Saturn</td>\n",
              "      <td>Aura</td>\n",
              "      <td>XE</td>\n",
              "      <td>Sedan</td>\n",
              "      <td>automatic</td>\n",
              "      <td>1g8zs57b48f278750</td>\n",
              "      <td>fl</td>\n",
              "      <td>4.1</td>\n",
              "      <td>75624.0mi</td>\n",
              "      <td>silver</td>\n",
              "      <td>gray</td>\n",
              "      <td>santander consumer</td>\n",
              "      <td>$5975</td>\n",
              "      <td>$7300</td>\n",
              "      <td>Wed Mar 04 2015 01:05:00 GMT-0800 (PST)</td>\n",
              "    </tr>\n",
              "    <tr>\n",
              "      <th>46572</th>\n",
              "      <td>2006</td>\n",
              "      <td>Volvo</td>\n",
              "      <td>S40</td>\n",
              "      <td>2.4i</td>\n",
              "      <td>Sedan</td>\n",
              "      <td>automatic</td>\n",
              "      <td>yv1ms390462186357</td>\n",
              "      <td>ca</td>\n",
              "      <td>3.8</td>\n",
              "      <td>56993.0mi</td>\n",
              "      <td>gray</td>\n",
              "      <td>gray</td>\n",
              "      <td>prestige auto wholesale inc</td>\n",
              "      <td>$6350</td>\n",
              "      <td>$7000</td>\n",
              "      <td>Tue May 26 2015 05:30:00 GMT-0700 (PDT)</td>\n",
              "    </tr>\n",
              "    <tr>\n",
              "      <th>46573</th>\n",
              "      <td>2013</td>\n",
              "      <td>Ford</td>\n",
              "      <td>Edge</td>\n",
              "      <td>SE</td>\n",
              "      <td>SUV</td>\n",
              "      <td>automatic</td>\n",
              "      <td>2fmdk4gc2dbc03247</td>\n",
              "      <td>va</td>\n",
              "      <td>3.5</td>\n",
              "      <td>52844.0mi</td>\n",
              "      <td>—</td>\n",
              "      <td>gray</td>\n",
              "      <td>wheels exchange llc</td>\n",
              "      <td>$15650</td>\n",
              "      <td>$17000</td>\n",
              "      <td>Wed Jan 07 2015 09:30:00 GMT-0800 (PST)</td>\n",
              "    </tr>\n",
              "    <tr>\n",
              "      <th>46574</th>\n",
              "      <td>2012</td>\n",
              "      <td>Infiniti</td>\n",
              "      <td>G Sedan</td>\n",
              "      <td>G37 Journey</td>\n",
              "      <td>g sedan</td>\n",
              "      <td>automatic</td>\n",
              "      <td>jn1cv6ap9cm623162</td>\n",
              "      <td>ca</td>\n",
              "      <td>4.5</td>\n",
              "      <td>23185.0mi</td>\n",
              "      <td>black</td>\n",
              "      <td>black</td>\n",
              "      <td>nissan infiniti lt</td>\n",
              "      <td>$19350</td>\n",
              "      <td>$21500</td>\n",
              "      <td>Thu Jun 18 2015 05:30:00 GMT-0700 (PDT)</td>\n",
              "    </tr>\n",
              "    <tr>\n",
              "      <th>46575</th>\n",
              "      <td>2013</td>\n",
              "      <td>BMW</td>\n",
              "      <td>3 Series</td>\n",
              "      <td>328i</td>\n",
              "      <td>Sedan</td>\n",
              "      <td>automatic</td>\n",
              "      <td>wba3a5c56df356614</td>\n",
              "      <td>tx</td>\n",
              "      <td>4.2</td>\n",
              "      <td>45357.0mi</td>\n",
              "      <td>white</td>\n",
              "      <td>beige</td>\n",
              "      <td>motorcars of south texas</td>\n",
              "      <td>$22200</td>\n",
              "      <td>$22000</td>\n",
              "      <td>Wed Feb 18 2015 02:00:00 GMT-0800 (PST)</td>\n",
              "    </tr>\n",
              "    <tr>\n",
              "      <th>46576</th>\n",
              "      <td>2013</td>\n",
              "      <td>Toyota</td>\n",
              "      <td>Camry</td>\n",
              "      <td>LE</td>\n",
              "      <td>Sedan</td>\n",
              "      <td>automatic</td>\n",
              "      <td>4t1bf1fk8du254684</td>\n",
              "      <td>ca</td>\n",
              "      <td>3.5</td>\n",
              "      <td>43376.0mi</td>\n",
              "      <td>black</td>\n",
              "      <td>beige</td>\n",
              "      <td>avis rac/san leandro</td>\n",
              "      <td>$13400</td>\n",
              "      <td>$13800</td>\n",
              "      <td>Wed Jan 14 2015 04:30:00 GMT-0800 (PST)</td>\n",
              "    </tr>\n",
              "    <tr>\n",
              "      <th>46577</th>\n",
              "      <td>2013</td>\n",
              "      <td>Kia</td>\n",
              "      <td>Rio</td>\n",
              "      <td>LX</td>\n",
              "      <td>Sedan</td>\n",
              "      <td>automatic</td>\n",
              "      <td>knadm4a32d6164825</td>\n",
              "      <td>ga</td>\n",
              "      <td>4.1</td>\n",
              "      <td>49953.0mi</td>\n",
              "      <td>silver</td>\n",
              "      <td>black</td>\n",
              "      <td>kia motors finance</td>\n",
              "      <td>$9700</td>\n",
              "      <td>$9300</td>\n",
              "      <td>Thu Dec 18 2014 10:00:00 GMT-0800 (PST)</td>\n",
              "    </tr>\n",
              "  </tbody>\n",
              "</table>\n",
              "</div>"
            ],
            "text/plain": [
              "       year       make  ... sellingprice                                 saledate\n",
              "46558  2014    Hyundai  ...       $41000  Wed Feb 18 2015 01:30:00 GMT-0800 (PST)\n",
              "46559  2011      Mazda  ...       $10200  Wed Jun 17 2015 05:30:00 GMT-0700 (PDT)\n",
              "46560  2014       Jeep  ...       $13400  Thu Jan 22 2015 01:30:00 GMT-0800 (PST)\n",
              "46561  2003      Acura  ...        $2900  Tue Feb 10 2015 05:00:00 GMT-0800 (PST)\n",
              "46562  2012     Nissan  ...        $6800  Tue Jan 13 2015 09:30:00 GMT-0800 (PST)\n",
              "46563  2013       Ford  ...       $10500  Wed Feb 25 2015 01:30:00 GMT-0800 (PST)\n",
              "46564  2012     Toyota  ...       $15400  Tue Dec 23 2014 15:05:00 GMT-0800 (PST)\n",
              "46565  2013     Nissan  ...       $11900  Fri Jan 09 2015 09:30:00 GMT-0800 (PST)\n",
              "46566  2012   Chrysler  ...        $8000  Thu Jun 18 2015 03:10:00 GMT-0700 (PDT)\n",
              "46567  2012    Hyundai  ...       $13400  Tue Feb 17 2015 01:30:00 GMT-0800 (PST)\n",
              "46568  2006  Chevrolet  ...        $2150  Thu Jan 15 2015 04:00:00 GMT-0800 (PST)\n",
              "46569  2005   Cadillac  ...       $12800  Thu Feb 12 2015 01:35:00 GMT-0800 (PST)\n",
              "46570  2014       Audi  ...       $35000  Wed Feb 25 2015 04:00:00 GMT-0800 (PST)\n",
              "46571  2008     Saturn  ...        $7300  Wed Mar 04 2015 01:05:00 GMT-0800 (PST)\n",
              "46572  2006      Volvo  ...        $7000  Tue May 26 2015 05:30:00 GMT-0700 (PDT)\n",
              "46573  2013       Ford  ...       $17000  Wed Jan 07 2015 09:30:00 GMT-0800 (PST)\n",
              "46574  2012   Infiniti  ...       $21500  Thu Jun 18 2015 05:30:00 GMT-0700 (PDT)\n",
              "46575  2013        BMW  ...       $22000  Wed Feb 18 2015 02:00:00 GMT-0800 (PST)\n",
              "46576  2013     Toyota  ...       $13800  Wed Jan 14 2015 04:30:00 GMT-0800 (PST)\n",
              "46577  2013        Kia  ...        $9300  Thu Dec 18 2014 10:00:00 GMT-0800 (PST)\n",
              "\n",
              "[20 rows x 16 columns]"
            ]
          },
          "metadata": {},
          "execution_count": 36
        }
      ]
    },
    {
      "cell_type": "code",
      "metadata": {
        "colab": {
          "base_uri": "https://localhost:8080/",
          "height": 394
        },
        "id": "B7MAn9HQ6THV",
        "outputId": "0c8a258f-4dc8-45e5-8bc3-17a8bbd24892"
      },
      "source": [
        "#df.describe()\n",
        "df.describe(include='all')"
      ],
      "execution_count": 37,
      "outputs": [
        {
          "output_type": "execute_result",
          "data": {
            "text/html": [
              "<div>\n",
              "<style scoped>\n",
              "    .dataframe tbody tr th:only-of-type {\n",
              "        vertical-align: middle;\n",
              "    }\n",
              "\n",
              "    .dataframe tbody tr th {\n",
              "        vertical-align: top;\n",
              "    }\n",
              "\n",
              "    .dataframe thead th {\n",
              "        text-align: right;\n",
              "    }\n",
              "</style>\n",
              "<table border=\"1\" class=\"dataframe\">\n",
              "  <thead>\n",
              "    <tr style=\"text-align: right;\">\n",
              "      <th></th>\n",
              "      <th>year</th>\n",
              "      <th>make</th>\n",
              "      <th>model</th>\n",
              "      <th>trim</th>\n",
              "      <th>body</th>\n",
              "      <th>transmission</th>\n",
              "      <th>vin</th>\n",
              "      <th>state</th>\n",
              "      <th>condition</th>\n",
              "      <th>odometer</th>\n",
              "      <th>color</th>\n",
              "      <th>interior</th>\n",
              "      <th>seller</th>\n",
              "      <th>mmr</th>\n",
              "      <th>sellingprice</th>\n",
              "      <th>saledate</th>\n",
              "    </tr>\n",
              "  </thead>\n",
              "  <tbody>\n",
              "    <tr>\n",
              "      <th>count</th>\n",
              "      <td>46578.000000</td>\n",
              "      <td>46578</td>\n",
              "      <td>46578</td>\n",
              "      <td>46578</td>\n",
              "      <td>46578</td>\n",
              "      <td>46578</td>\n",
              "      <td>46578</td>\n",
              "      <td>46578</td>\n",
              "      <td>46578.000000</td>\n",
              "      <td>46578</td>\n",
              "      <td>46578</td>\n",
              "      <td>46578</td>\n",
              "      <td>46578</td>\n",
              "      <td>46578</td>\n",
              "      <td>46578</td>\n",
              "      <td>46578</td>\n",
              "    </tr>\n",
              "    <tr>\n",
              "      <th>unique</th>\n",
              "      <td>NaN</td>\n",
              "      <td>48</td>\n",
              "      <td>648</td>\n",
              "      <td>1097</td>\n",
              "      <td>71</td>\n",
              "      <td>2</td>\n",
              "      <td>46578</td>\n",
              "      <td>34</td>\n",
              "      <td>NaN</td>\n",
              "      <td>39460</td>\n",
              "      <td>20</td>\n",
              "      <td>17</td>\n",
              "      <td>4686</td>\n",
              "      <td>1021</td>\n",
              "      <td>953</td>\n",
              "      <td>2286</td>\n",
              "    </tr>\n",
              "    <tr>\n",
              "      <th>top</th>\n",
              "      <td>NaN</td>\n",
              "      <td>Ford</td>\n",
              "      <td>Altima</td>\n",
              "      <td>Base</td>\n",
              "      <td>Sedan</td>\n",
              "      <td>automatic</td>\n",
              "      <td>4s3bmbc61e3037394</td>\n",
              "      <td>fl</td>\n",
              "      <td>NaN</td>\n",
              "      <td>1.0mi</td>\n",
              "      <td>black</td>\n",
              "      <td>black</td>\n",
              "      <td>ford motor credit company,llc</td>\n",
              "      <td>$11300</td>\n",
              "      <td>$12000</td>\n",
              "      <td>Tue Feb 10 2015 01:30:00 GMT-0800 (PST)</td>\n",
              "    </tr>\n",
              "    <tr>\n",
              "      <th>freq</th>\n",
              "      <td>NaN</td>\n",
              "      <td>7871</td>\n",
              "      <td>1610</td>\n",
              "      <td>4851</td>\n",
              "      <td>17171</td>\n",
              "      <td>44928</td>\n",
              "      <td>1</td>\n",
              "      <td>7451</td>\n",
              "      <td>NaN</td>\n",
              "      <td>86</td>\n",
              "      <td>9156</td>\n",
              "      <td>20734</td>\n",
              "      <td>1733</td>\n",
              "      <td>168</td>\n",
              "      <td>397</td>\n",
              "      <td>490</td>\n",
              "    </tr>\n",
              "    <tr>\n",
              "      <th>mean</th>\n",
              "      <td>2010.203401</td>\n",
              "      <td>NaN</td>\n",
              "      <td>NaN</td>\n",
              "      <td>NaN</td>\n",
              "      <td>NaN</td>\n",
              "      <td>NaN</td>\n",
              "      <td>NaN</td>\n",
              "      <td>NaN</td>\n",
              "      <td>3.424265</td>\n",
              "      <td>NaN</td>\n",
              "      <td>NaN</td>\n",
              "      <td>NaN</td>\n",
              "      <td>NaN</td>\n",
              "      <td>NaN</td>\n",
              "      <td>NaN</td>\n",
              "      <td>NaN</td>\n",
              "    </tr>\n",
              "    <tr>\n",
              "      <th>std</th>\n",
              "      <td>3.831316</td>\n",
              "      <td>NaN</td>\n",
              "      <td>NaN</td>\n",
              "      <td>NaN</td>\n",
              "      <td>NaN</td>\n",
              "      <td>NaN</td>\n",
              "      <td>NaN</td>\n",
              "      <td>NaN</td>\n",
              "      <td>0.944009</td>\n",
              "      <td>NaN</td>\n",
              "      <td>NaN</td>\n",
              "      <td>NaN</td>\n",
              "      <td>NaN</td>\n",
              "      <td>NaN</td>\n",
              "      <td>NaN</td>\n",
              "      <td>NaN</td>\n",
              "    </tr>\n",
              "    <tr>\n",
              "      <th>min</th>\n",
              "      <td>1990.000000</td>\n",
              "      <td>NaN</td>\n",
              "      <td>NaN</td>\n",
              "      <td>NaN</td>\n",
              "      <td>NaN</td>\n",
              "      <td>NaN</td>\n",
              "      <td>NaN</td>\n",
              "      <td>NaN</td>\n",
              "      <td>1.000000</td>\n",
              "      <td>NaN</td>\n",
              "      <td>NaN</td>\n",
              "      <td>NaN</td>\n",
              "      <td>NaN</td>\n",
              "      <td>NaN</td>\n",
              "      <td>NaN</td>\n",
              "      <td>NaN</td>\n",
              "    </tr>\n",
              "    <tr>\n",
              "      <th>25%</th>\n",
              "      <td>2008.000000</td>\n",
              "      <td>NaN</td>\n",
              "      <td>NaN</td>\n",
              "      <td>NaN</td>\n",
              "      <td>NaN</td>\n",
              "      <td>NaN</td>\n",
              "      <td>NaN</td>\n",
              "      <td>NaN</td>\n",
              "      <td>2.700000</td>\n",
              "      <td>NaN</td>\n",
              "      <td>NaN</td>\n",
              "      <td>NaN</td>\n",
              "      <td>NaN</td>\n",
              "      <td>NaN</td>\n",
              "      <td>NaN</td>\n",
              "      <td>NaN</td>\n",
              "    </tr>\n",
              "    <tr>\n",
              "      <th>50%</th>\n",
              "      <td>2012.000000</td>\n",
              "      <td>NaN</td>\n",
              "      <td>NaN</td>\n",
              "      <td>NaN</td>\n",
              "      <td>NaN</td>\n",
              "      <td>NaN</td>\n",
              "      <td>NaN</td>\n",
              "      <td>NaN</td>\n",
              "      <td>3.600000</td>\n",
              "      <td>NaN</td>\n",
              "      <td>NaN</td>\n",
              "      <td>NaN</td>\n",
              "      <td>NaN</td>\n",
              "      <td>NaN</td>\n",
              "      <td>NaN</td>\n",
              "      <td>NaN</td>\n",
              "    </tr>\n",
              "    <tr>\n",
              "      <th>75%</th>\n",
              "      <td>2013.000000</td>\n",
              "      <td>NaN</td>\n",
              "      <td>NaN</td>\n",
              "      <td>NaN</td>\n",
              "      <td>NaN</td>\n",
              "      <td>NaN</td>\n",
              "      <td>NaN</td>\n",
              "      <td>NaN</td>\n",
              "      <td>4.200000</td>\n",
              "      <td>NaN</td>\n",
              "      <td>NaN</td>\n",
              "      <td>NaN</td>\n",
              "      <td>NaN</td>\n",
              "      <td>NaN</td>\n",
              "      <td>NaN</td>\n",
              "      <td>NaN</td>\n",
              "    </tr>\n",
              "    <tr>\n",
              "      <th>max</th>\n",
              "      <td>2015.000000</td>\n",
              "      <td>NaN</td>\n",
              "      <td>NaN</td>\n",
              "      <td>NaN</td>\n",
              "      <td>NaN</td>\n",
              "      <td>NaN</td>\n",
              "      <td>NaN</td>\n",
              "      <td>NaN</td>\n",
              "      <td>5.000000</td>\n",
              "      <td>NaN</td>\n",
              "      <td>NaN</td>\n",
              "      <td>NaN</td>\n",
              "      <td>NaN</td>\n",
              "      <td>NaN</td>\n",
              "      <td>NaN</td>\n",
              "      <td>NaN</td>\n",
              "    </tr>\n",
              "  </tbody>\n",
              "</table>\n",
              "</div>"
            ],
            "text/plain": [
              "                year  ...                                 saledate\n",
              "count   46578.000000  ...                                    46578\n",
              "unique           NaN  ...                                     2286\n",
              "top              NaN  ...  Tue Feb 10 2015 01:30:00 GMT-0800 (PST)\n",
              "freq             NaN  ...                                      490\n",
              "mean     2010.203401  ...                                      NaN\n",
              "std         3.831316  ...                                      NaN\n",
              "min      1990.000000  ...                                      NaN\n",
              "25%      2008.000000  ...                                      NaN\n",
              "50%      2012.000000  ...                                      NaN\n",
              "75%      2013.000000  ...                                      NaN\n",
              "max      2015.000000  ...                                      NaN\n",
              "\n",
              "[11 rows x 16 columns]"
            ]
          },
          "metadata": {},
          "execution_count": 37
        }
      ]
    },
    {
      "cell_type": "code",
      "metadata": {
        "colab": {
          "base_uri": "https://localhost:8080/"
        },
        "id": "grtz7Dvm3u41",
        "outputId": "b56bf5ef-e242-4a2d-b94e-b013368b911e"
      },
      "source": [
        "df.info()"
      ],
      "execution_count": 6,
      "outputs": [
        {
          "output_type": "stream",
          "name": "stdout",
          "text": [
            "<class 'pandas.core.frame.DataFrame'>\n",
            "RangeIndex: 46578 entries, 0 to 46577\n",
            "Data columns (total 16 columns):\n",
            " #   Column        Non-Null Count  Dtype  \n",
            "---  ------        --------------  -----  \n",
            " 0   year          46578 non-null  int64  \n",
            " 1   make          46578 non-null  object \n",
            " 2   model         46578 non-null  object \n",
            " 3   trim          46578 non-null  object \n",
            " 4   body          46578 non-null  object \n",
            " 5   transmission  46578 non-null  object \n",
            " 6   vin           46578 non-null  object \n",
            " 7   state         46578 non-null  object \n",
            " 8   condition     46578 non-null  float64\n",
            " 9   odometer      46578 non-null  object \n",
            " 10  color         46578 non-null  object \n",
            " 11  interior      46578 non-null  object \n",
            " 12  seller        46578 non-null  object \n",
            " 13  mmr           46578 non-null  object \n",
            " 14  sellingprice  46578 non-null  object \n",
            " 15  saledate      46578 non-null  object \n",
            "dtypes: float64(1), int64(1), object(14)\n",
            "memory usage: 5.7+ MB\n"
          ]
        }
      ]
    },
    {
      "cell_type": "code",
      "metadata": {
        "id": "8wYiewyE6lWn"
      },
      "source": [
        "#df."
      ],
      "execution_count": null,
      "outputs": []
    },
    {
      "cell_type": "markdown",
      "metadata": {
        "id": "X60P2rVI3u42"
      },
      "source": [
        "## Data Pre-Processing & Cleaning\n",
        "\n",
        "_Apply any data preprocessing and/or feature engineering below. Show/output the changes to the dataset._"
      ]
    },
    {
      "cell_type": "markdown",
      "metadata": {
        "id": "kRjws3OYTv60"
      },
      "source": [
        ""
      ]
    },
    {
      "cell_type": "code",
      "metadata": {
        "id": "-1gLHuca3u42"
      },
      "source": [
        "#df['body'].unique()\n",
        "\n",
        "#body=pd.DataFrame({'body':['Sedan','G sedan','g sedan', 'sedan']})\n",
        "df['body']=df['body'].astype('str')\n",
        "df['body']=df['body'].replace(dict.fromkeys(['Sedan','G sedan','g sedan', 'sedan'],'Sedan'))\n",
        "\n",
        "\n"
      ],
      "execution_count": 38,
      "outputs": []
    },
    {
      "cell_type": "code",
      "metadata": {
        "id": "B-Yfaq8iY50D"
      },
      "source": [
        "df['body']=df['body'].replace(dict.fromkeys(['convertible', 'Convertible', 'G Convertible', 'Beetle Convertible', 'G37 Convertible', 'Q60 Convertible', 'GranTurismo Convertible','beetle convertible', 'g convertible','granturismo convertible'],'Convertible'))\n"
      ],
      "execution_count": 40,
      "outputs": []
    },
    {
      "cell_type": "code",
      "metadata": {
        "id": "Yyx1rST1Y6mD"
      },
      "source": [
        "df['body']=df['body'].replace(dict.fromkeys(['Regular cab','regular-cab','regular cab'],'Regular cab'))"
      ],
      "execution_count": 47,
      "outputs": []
    },
    {
      "cell_type": "code",
      "metadata": {
        "id": "P45ygCWXTwQo"
      },
      "source": [
        "df['body']=df['body'].replace(dict.fromkeys(['Coupe','coupe', 'G Coupe', 'g coupe', 'Genesis Coupe', 'genesis coupe', 'Koup', 'Elantra Coupe', 'CTS Coupe', 'CTS-V Coupe', 'Q60 Coupe', 'cts coupe'],'Coupe'))\n"
      ],
      "execution_count": 48,
      "outputs": []
    },
    {
      "cell_type": "code",
      "metadata": {
        "id": "9_2aTu7Pb9iA"
      },
      "source": [
        "df['body']=df['body'].replace(dict.fromkeys(['Wagon', 'wagon', 'CTS Wagon', 'TSX Sport Wagon', 'tsx sport wagon'],'Wagon'))\n"
      ],
      "execution_count": 49,
      "outputs": []
    },
    {
      "cell_type": "code",
      "metadata": {
        "id": "rV1i5SApceIu"
      },
      "source": [
        "df['body']=df['body'].replace(dict.fromkeys(['SUV','suv'],'SUV'))"
      ],
      "execution_count": 50,
      "outputs": []
    },
    {
      "cell_type": "code",
      "metadata": {
        "id": "JUaiYWocdB40"
      },
      "source": [
        "df['body']=df['body'].replace(dict.fromkeys([ 'Minivan', 'minivan'],'Minivan'))\n"
      ],
      "execution_count": 51,
      "outputs": []
    },
    {
      "cell_type": "code",
      "metadata": {
        "id": "TOYYLMmXdSHY"
      },
      "source": [
        "df['body']=df['body'].replace(dict.fromkeys([ 'Van', 'van', 'e-series van', 'promaster cargo van', 'Promaster Cargo Van', 'Transit Van'],'Van'))"
      ],
      "execution_count": 52,
      "outputs": []
    },
    {
      "cell_type": "code",
      "metadata": {
        "id": "nUs_uK9idtGm"
      },
      "source": [
        "df['body']=df['body'].replace(dict.fromkeys(['Double cab', 'double cab'],'Double Cab'))\n"
      ],
      "execution_count": 53,
      "outputs": []
    },
    {
      "cell_type": "code",
      "metadata": {
        "id": "6QZyFoTgeiUw"
      },
      "source": [
        "df['body']=df['body'].replace(dict.fromkeys(['SuperCrew','supercrew'],'SuperCrew'))\n"
      ],
      "execution_count": 54,
      "outputs": []
    },
    {
      "cell_type": "code",
      "metadata": {
        "id": "xU1xHkTBe2VT"
      },
      "source": [
        "df['body']=df['body'].replace(dict.fromkeys(['SuperCab','supercab'],'SuperCab'))\n"
      ],
      "execution_count": 55,
      "outputs": []
    },
    {
      "cell_type": "code",
      "metadata": {
        "id": "bBmpDy5Ue-i8"
      },
      "source": [
        "df['body']=df['body'].replace(dict.fromkeys(['Extended Cab' ,'extended cab'],'Extended Cab'))"
      ],
      "execution_count": 56,
      "outputs": []
    },
    {
      "cell_type": "code",
      "metadata": {
        "id": "QlnGcC2Je_3w"
      },
      "source": [
        "df['body']=df['body'].replace(dict.fromkeys(['King Cab','king cab'],'King Cab'))\n"
      ],
      "execution_count": 57,
      "outputs": []
    },
    {
      "cell_type": "code",
      "metadata": {
        "id": "xrM4utaUe_lW"
      },
      "source": [
        "df['body']=df['body'].replace(dict.fromkeys(['CrewMax Cab','crewmax cab'],'CrewMax Cab'))"
      ],
      "execution_count": 58,
      "outputs": []
    },
    {
      "cell_type": "code",
      "metadata": {
        "id": "fuS7xbQJe_O2"
      },
      "source": [
        "df['body']=df['body'].replace(dict.fromkeys(['crew cab'],'Crew Cab'))"
      ],
      "execution_count": 59,
      "outputs": []
    },
    {
      "cell_type": "code",
      "metadata": {
        "id": "QEB7G5OXgM3N"
      },
      "source": [
        "df['body']=df['body'].replace(dict.fromkeys(['quad cab'],'Quad Cab'))"
      ],
      "execution_count": 61,
      "outputs": []
    },
    {
      "cell_type": "code",
      "metadata": {
        "id": "Q-JzFcBggMtn"
      },
      "source": [
        "df['body']=df['body'].replace(dict.fromkeys(['access cab'],'Access Cab'))"
      ],
      "execution_count": 62,
      "outputs": []
    },
    {
      "cell_type": "code",
      "metadata": {
        "id": "lITte3uDgMjS"
      },
      "source": [
        "df['body']=df['body'].replace(dict.fromkeys(['mega cab'],'Mega Cab'))"
      ],
      "execution_count": 63,
      "outputs": []
    },
    {
      "cell_type": "code",
      "metadata": {
        "id": "gwfWus2EgMZT"
      },
      "source": [
        "df['body']=df['body'].replace(dict.fromkeys(['xtracab'],'XtraCab'))"
      ],
      "execution_count": 64,
      "outputs": []
    },
    {
      "cell_type": "markdown",
      "metadata": {
        "id": "vekaroqK3u43"
      },
      "source": [
        "**Q0 (example): What is the most popular car exterior color?**\n"
      ]
    },
    {
      "cell_type": "markdown",
      "metadata": {
        "id": "wGArOwLs3u43"
      },
      "source": [
        "**Visualization**"
      ]
    },
    {
      "cell_type": "code",
      "metadata": {
        "id": "i5DKlxN53u43",
        "outputId": "cf3e3e22-cf68-4be8-d4a7-7362493f78f1"
      },
      "source": [
        "# Basic, minimal plot example\n",
        "sns.countplot(x='color', data=df)"
      ],
      "execution_count": null,
      "outputs": [
        {
          "data": {
            "text/plain": [
              "<AxesSubplot:xlabel='color', ylabel='count'>"
            ]
          },
          "execution_count": 2,
          "metadata": {},
          "output_type": "execute_result"
        },
        {
          "data": {
            "image/png": "[encoded data removed]",
            "text/plain": [
              "<Figure size 576x396 with 1 Axes>"
            ]
          },
          "metadata": {},
          "output_type": "display_data"
        }
      ]
    },
    {
      "cell_type": "code",
      "metadata": {
        "id": "NYaHZLXz3u44",
        "outputId": "41c38930-3f37-4d34-e134-385e8c9b30d4"
      },
      "source": [
        "# Much better plot, with sorting in descending order, rotated x-axis labels for clarity, and a plot title\n",
        "# Your visualizations should be neatly presented like the example below.\n",
        "large_to_small = df.groupby('color').size().sort_values(ascending=False)\n",
        "sns.countplot(x='color', data=df, order=large_to_small.index).set(title='Most popular colors sold on the used car auction market')\n",
        "plt.xticks(rotation=90)\n",
        "plt.tight_layout()"
      ],
      "execution_count": null,
      "outputs": [
        {
          "data": {
            "image/png": "[encoded data removed]",
            "text/plain": [
              "<Figure size 576x396 with 1 Axes>"
            ]
          },
          "metadata": {},
          "output_type": "display_data"
        }
      ]
    },
    {
      "cell_type": "markdown",
      "metadata": {
        "id": "3qOM8fbh3u44"
      },
      "source": [
        "**Example note:** _you need to answer using a visualization (above) and a written/text answer (below)._\n",
        "\n",
        "**Answer for Q0**: Black is the most popular exterior color of used cars sold in auctions, followed very closely by white."
      ]
    },
    {
      "cell_type": "markdown",
      "metadata": {
        "id": "MO0WURJa3u45"
      },
      "source": [
        "**Q1: What are the most popular car brands? (mention at least 3)**\n"
      ]
    },
    {
      "cell_type": "markdown",
      "metadata": {
        "id": "mExEqiDI3u45"
      },
      "source": [
        "**Visualization**"
      ]
    },
    {
      "cell_type": "code",
      "metadata": {
        "id": "4TyC6NQh3u46"
      },
      "source": [
        ""
      ],
      "execution_count": null,
      "outputs": []
    },
    {
      "cell_type": "markdown",
      "metadata": {
        "id": "9XhKieKs3u46"
      },
      "source": [
        "**Answer for Q1**: Your answer here"
      ]
    },
    {
      "cell_type": "markdown",
      "metadata": {
        "id": "hEVkZXGx3u46"
      },
      "source": [
        "**Q2: Do automatic cars, on average, sell for a higher price than manual cars?**\n"
      ]
    },
    {
      "cell_type": "markdown",
      "metadata": {
        "id": "7WBZ8Usp3u46"
      },
      "source": [
        "**Visualization**"
      ]
    },
    {
      "cell_type": "code",
      "metadata": {
        "id": "C-K8ozrC3u47"
      },
      "source": [
        ""
      ],
      "execution_count": null,
      "outputs": []
    },
    {
      "cell_type": "markdown",
      "metadata": {
        "id": "cjrU4WNR3u47"
      },
      "source": [
        "**Answer for Q2**: Your answer here"
      ]
    },
    {
      "cell_type": "markdown",
      "metadata": {
        "id": "9uw12u4c3u47"
      },
      "source": [
        "**Q3: Draw a box plot showing the distribution of the selling prices of each car make. Which car makes have the widest distribution of selling price (name two)? Which are the most expensive (name two)?**\n"
      ]
    },
    {
      "cell_type": "markdown",
      "metadata": {
        "id": "20_G2-DR3u47"
      },
      "source": [
        "**Visualization**"
      ]
    },
    {
      "cell_type": "code",
      "metadata": {
        "id": "Q0pqRUpp3u48"
      },
      "source": [
        ""
      ],
      "execution_count": null,
      "outputs": []
    },
    {
      "cell_type": "markdown",
      "metadata": {
        "id": "1IGsFnAN3u48"
      },
      "source": [
        "**Answer for Q3**: Your answer here"
      ]
    },
    {
      "cell_type": "markdown",
      "metadata": {
        "id": "6p2HKtmQ3u49"
      },
      "source": [
        "**Q4: How correlated is the odometer reading or mileage with the car's sale price? (Hint: plot a line of best fit.)**"
      ]
    },
    {
      "cell_type": "markdown",
      "metadata": {
        "id": "TvwOSltg3u49"
      },
      "source": [
        "**Visualization**"
      ]
    },
    {
      "cell_type": "code",
      "metadata": {
        "id": "3aQFYCRb3u49"
      },
      "source": [
        ""
      ],
      "execution_count": null,
      "outputs": []
    },
    {
      "cell_type": "markdown",
      "metadata": {
        "id": "16NoOe393u49"
      },
      "source": [
        "**Answer for Q4**: Your answer here"
      ]
    },
    {
      "cell_type": "markdown",
      "metadata": {
        "id": "6-2yv49e3u4-"
      },
      "source": [
        "**Q5: Likewise, how correlated is the car's condition with its sale price? (Hint: plot a line of best fit.)**"
      ]
    },
    {
      "cell_type": "markdown",
      "metadata": {
        "id": "pCwjVL493u5B"
      },
      "source": [
        "**Visualization**"
      ]
    },
    {
      "cell_type": "code",
      "metadata": {
        "id": "qn6vcRp13u5C"
      },
      "source": [
        ""
      ],
      "execution_count": null,
      "outputs": []
    },
    {
      "cell_type": "markdown",
      "metadata": {
        "id": "889_sq6M3u5C"
      },
      "source": [
        "**Answer for Q5**: Your answer here"
      ]
    },
    {
      "cell_type": "markdown",
      "metadata": {
        "id": "olVrVOEr3u5D"
      },
      "source": [
        "**Q6: Are there differences in the average car price due to the car's body type? If so, rank their order and state the most expensive and least expensive car body type.**"
      ]
    },
    {
      "cell_type": "markdown",
      "metadata": {
        "id": "LonBjVpp3u5D"
      },
      "source": [
        "**Visualization**"
      ]
    },
    {
      "cell_type": "code",
      "metadata": {
        "id": "_74ot0cd3u5D"
      },
      "source": [
        ""
      ],
      "execution_count": null,
      "outputs": []
    },
    {
      "cell_type": "markdown",
      "metadata": {
        "id": "tGklHwMJ3u5D"
      },
      "source": [
        "**Answer for Q6**: Your answer here"
      ]
    },
    {
      "cell_type": "markdown",
      "metadata": {
        "id": "LZQd9hrY3u5E"
      },
      "source": [
        "## Data Preparation for Modelling\n",
        "\n",
        "_Apply any additional data preparation steps needed before modelling below. Show/output the changes to the dataset._"
      ]
    },
    {
      "cell_type": "code",
      "metadata": {
        "id": "rBiiASM23u5F"
      },
      "source": [
        ""
      ],
      "execution_count": null,
      "outputs": []
    },
    {
      "cell_type": "markdown",
      "metadata": {
        "id": "n1ZhgviC3u5F"
      },
      "source": [
        "## Modelling\n",
        "\n",
        "_Apply the linear regression model below._"
      ]
    },
    {
      "cell_type": "code",
      "metadata": {
        "id": "JcShOJyQ3u5G"
      },
      "source": [
        ""
      ],
      "execution_count": null,
      "outputs": []
    },
    {
      "cell_type": "markdown",
      "metadata": {
        "id": "B52DdoJH3u5G"
      },
      "source": [
        "## Model Evaluation & Validation\n",
        "\n",
        "_Evaluate the model you applied and check if it meets the necessary assumptions for the chosen model._"
      ]
    },
    {
      "cell_type": "code",
      "metadata": {
        "id": "RSbtO0Je3u5I"
      },
      "source": [
        ""
      ],
      "execution_count": null,
      "outputs": []
    },
    {
      "cell_type": "markdown",
      "metadata": {
        "id": "TMPF6ONn3u5I"
      },
      "source": [
        "## Conclusion and Recommendations\n",
        "\n",
        "Comment on the model accuracy and your findings from model evaluation and validation. State the problems (if any) and suggest possible solutions. Would you recommend this model for a used cars dealership that wants to get reliable estimates for used car prices?\n",
        "\n",
        "**Answer**: your answer here."
      ]
    }
  ]
}